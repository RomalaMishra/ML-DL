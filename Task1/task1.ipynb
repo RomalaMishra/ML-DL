{
 "cells": [
  {
   "cell_type": "code",
   "execution_count": 126,
   "id": "a18c784e",
   "metadata": {},
   "outputs": [],
   "source": [
    "# import required libraries\n",
    "import pandas as pd\n",
    "import matplotlib.pyplot as plt"
   ]
  },
  {
   "cell_type": "code",
   "execution_count": 127,
   "id": "7d7230bd",
   "metadata": {
    "scrolled": true
   },
   "outputs": [
    {
     "name": "stdout",
     "output_type": "stream",
     "text": [
      "car_ID              0\n",
      "symboling           0\n",
      "CarName             0\n",
      "fueltype            0\n",
      "aspiration          0\n",
      "doornumber          0\n",
      "carbody             0\n",
      "drivewheel          0\n",
      "enginelocation      0\n",
      "wheelbase           0\n",
      "carlength           0\n",
      "carwidth            0\n",
      "carheight           0\n",
      "curbweight          0\n",
      "enginetype          0\n",
      "cylindernumber      0\n",
      "enginesize          0\n",
      "fuelsystem          0\n",
      "boreratio           0\n",
      "stroke              0\n",
      "compressionratio    0\n",
      "horsepower          0\n",
      "peakrpm             0\n",
      "citympg             0\n",
      "highwaympg          0\n",
      "price               0\n",
      "dtype: int64\n",
      "     car_ID  symboling                   CarName fueltype aspiration  \\\n",
      "0         1          3        alfa-romero giulia      gas        std   \n",
      "1         2          3       alfa-romero stelvio      gas        std   \n",
      "2         3          1  alfa-romero Quadrifoglio      gas        std   \n",
      "3         4          2               audi 100 ls      gas        std   \n",
      "4         5          2                audi 100ls      gas        std   \n",
      "..      ...        ...                       ...      ...        ...   \n",
      "200     201         -1           volvo 145e (sw)      gas        std   \n",
      "201     202         -1               volvo 144ea      gas      turbo   \n",
      "202     203         -1               volvo 244dl      gas        std   \n",
      "203     204         -1                 volvo 246   diesel      turbo   \n",
      "204     205         -1               volvo 264gl      gas      turbo   \n",
      "\n",
      "    doornumber      carbody drivewheel enginelocation  wheelbase  ...  \\\n",
      "0          two  convertible        rwd          front       88.6  ...   \n",
      "1          two  convertible        rwd          front       88.6  ...   \n",
      "2          two    hatchback        rwd          front       94.5  ...   \n",
      "3         four        sedan        fwd          front       99.8  ...   \n",
      "4         four        sedan        4wd          front       99.4  ...   \n",
      "..         ...          ...        ...            ...        ...  ...   \n",
      "200       four        sedan        rwd          front      109.1  ...   \n",
      "201       four        sedan        rwd          front      109.1  ...   \n",
      "202       four        sedan        rwd          front      109.1  ...   \n",
      "203       four        sedan        rwd          front      109.1  ...   \n",
      "204       four        sedan        rwd          front      109.1  ...   \n",
      "\n",
      "     enginesize  fuelsystem  boreratio  stroke compressionratio horsepower  \\\n",
      "0           130        mpfi       3.47    2.68              9.0        111   \n",
      "1           130        mpfi       3.47    2.68              9.0        111   \n",
      "2           152        mpfi       2.68    3.47              9.0        154   \n",
      "3           109        mpfi       3.19    3.40             10.0        102   \n",
      "4           136        mpfi       3.19    3.40              8.0        115   \n",
      "..          ...         ...        ...     ...              ...        ...   \n",
      "200         141        mpfi       3.78    3.15              9.5        114   \n",
      "201         141        mpfi       3.78    3.15              8.7        160   \n",
      "202         173        mpfi       3.58    2.87              8.8        134   \n",
      "203         145         idi       3.01    3.40             23.0        106   \n",
      "204         141        mpfi       3.78    3.15              9.5        114   \n",
      "\n",
      "     peakrpm citympg  highwaympg    price  \n",
      "0       5000      21          27  13495.0  \n",
      "1       5000      21          27  16500.0  \n",
      "2       5000      19          26  16500.0  \n",
      "3       5500      24          30  13950.0  \n",
      "4       5500      18          22  17450.0  \n",
      "..       ...     ...         ...      ...  \n",
      "200     5400      23          28  16845.0  \n",
      "201     5300      19          25  19045.0  \n",
      "202     5500      18          23  21485.0  \n",
      "203     4800      26          27  22470.0  \n",
      "204     5400      19          25  22625.0  \n",
      "\n",
      "[205 rows x 26 columns]\n"
     ]
    }
   ],
   "source": [
    "# reading the csv file\n",
    "carprice_data = pd.read_csv(r\"C:\\Users\\DELL\\Desktop\\carprice.csv\")\n",
    "\n",
    "# to check if there is any missing values\n",
    "print(carprice_data.isna().sum())\n",
    "\n",
    "print(carprice_data)\n",
    "    "
   ]
  },
  {
   "cell_type": "code",
   "execution_count": 128,
   "id": "901cbbf1",
   "metadata": {},
   "outputs": [],
   "source": [
    "carprice_data = pd.get_dummies(carprice_data, columns=[\"doornumber\",\"cylindernumber\",\"carbody\",\"aspiration\",\"drivewheel\",\"fuelsystem\",\"enginetype\",\"fueltype\"])"
   ]
  },
  {
   "cell_type": "code",
   "execution_count": 129,
   "id": "828cbe9d",
   "metadata": {},
   "outputs": [],
   "source": [
    "carprice_data.drop([\"car_ID\",\"enginelocation\",\"cylindernumber_three\",\"cylindernumber_twelve\",\"cylindernumber_two\",\"cylindernumber_eight\",\"carbody_hardtop\",\"carbody_wagon\",\"CarName\",\"symboling\"], axis=1, inplace=True)"
   ]
  },
  {
   "cell_type": "code",
   "execution_count": 130,
   "id": "1a672a18",
   "metadata": {},
   "outputs": [
    {
     "name": "stdout",
     "output_type": "stream",
     "text": [
      "     wheelbase  carlength  carwidth  carheight  curbweight  enginesize  \\\n",
      "0         88.6      168.8      64.1       48.8        2548         130   \n",
      "1         88.6      168.8      64.1       48.8        2548         130   \n",
      "2         94.5      171.2      65.5       52.4        2823         152   \n",
      "3         99.8      176.6      66.2       54.3        2337         109   \n",
      "4         99.4      176.6      66.4       54.3        2824         136   \n",
      "..         ...        ...       ...        ...         ...         ...   \n",
      "200      109.1      188.8      68.9       55.5        2952         141   \n",
      "201      109.1      188.8      68.8       55.5        3049         141   \n",
      "202      109.1      188.8      68.9       55.5        3012         173   \n",
      "203      109.1      188.8      68.9       55.5        3217         145   \n",
      "204      109.1      188.8      68.9       55.5        3062         141   \n",
      "\n",
      "     boreratio  stroke  compressionratio  horsepower  ...  fuelsystem_spfi  \\\n",
      "0         3.47    2.68               9.0         111  ...                0   \n",
      "1         3.47    2.68               9.0         111  ...                0   \n",
      "2         2.68    3.47               9.0         154  ...                0   \n",
      "3         3.19    3.40              10.0         102  ...                0   \n",
      "4         3.19    3.40               8.0         115  ...                0   \n",
      "..         ...     ...               ...         ...  ...              ...   \n",
      "200       3.78    3.15               9.5         114  ...                0   \n",
      "201       3.78    3.15               8.7         160  ...                0   \n",
      "202       3.58    2.87               8.8         134  ...                0   \n",
      "203       3.01    3.40              23.0         106  ...                0   \n",
      "204       3.78    3.15               9.5         114  ...                0   \n",
      "\n",
      "     enginetype_dohc  enginetype_dohcv  enginetype_l  enginetype_ohc  \\\n",
      "0                  1                 0             0               0   \n",
      "1                  1                 0             0               0   \n",
      "2                  0                 0             0               0   \n",
      "3                  0                 0             0               1   \n",
      "4                  0                 0             0               1   \n",
      "..               ...               ...           ...             ...   \n",
      "200                0                 0             0               1   \n",
      "201                0                 0             0               1   \n",
      "202                0                 0             0               0   \n",
      "203                0                 0             0               1   \n",
      "204                0                 0             0               1   \n",
      "\n",
      "     enginetype_ohcf  enginetype_ohcv  enginetype_rotor  fueltype_diesel  \\\n",
      "0                  0                0                 0                0   \n",
      "1                  0                0                 0                0   \n",
      "2                  0                1                 0                0   \n",
      "3                  0                0                 0                0   \n",
      "4                  0                0                 0                0   \n",
      "..               ...              ...               ...              ...   \n",
      "200                0                0                 0                0   \n",
      "201                0                0                 0                0   \n",
      "202                0                1                 0                0   \n",
      "203                0                0                 0                1   \n",
      "204                0                0                 0                0   \n",
      "\n",
      "     fueltype_gas  \n",
      "0               1  \n",
      "1               1  \n",
      "2               1  \n",
      "3               1  \n",
      "4               1  \n",
      "..            ...  \n",
      "200             1  \n",
      "201             1  \n",
      "202             1  \n",
      "203             0  \n",
      "204             1  \n",
      "\n",
      "[205 rows x 44 columns]\n"
     ]
    }
   ],
   "source": [
    "print(carprice_data)\n",
    "\n"
   ]
  },
  {
   "cell_type": "code",
   "execution_count": 131,
   "id": "c1ba113d",
   "metadata": {},
   "outputs": [
    {
     "data": {
      "image/png": "[encoded data removed]",
      "text/plain": [
       "<Figure size 640x480 with 1 Axes>"
      ]
     },
     "metadata": {},
     "output_type": "display_data"
    }
   ],
   "source": [
    "plt.scatter(carprice_data[\"citympg\"], carprice_data[\"price\"])\n",
    "plt.xlabel(\"citympg\")\n",
    "plt.ylabel(\"price\")\n",
    "plt.show()"
   ]
  },
  {
   "cell_type": "code",
   "execution_count": 132,
   "id": "428db2b6",
   "metadata": {},
   "outputs": [],
   "source": [
    "from sklearn.preprocessing import MinMaxScaler\n",
    "import numpy as np\n",
    "scaler = MinMaxScaler()\n",
    "\n",
    "num_data=carprice_data.select_dtypes(include=np.number).columns.tolist()\n",
    "num_data.remove(\"price\")\n",
    "\n",
    "carprice_data[num_data] = scaler.fit_transform(carprice_data[num_data])\n"
   ]
  },
  {
   "cell_type": "code",
   "execution_count": 133,
   "id": "83675886",
   "metadata": {},
   "outputs": [
    {
     "name": "stdout",
     "output_type": "stream",
     "text": [
      "     wheelbase  carlength  carwidth  carheight  curbweight  enginesize  \\\n",
      "0     0.058309   0.413433  0.316667   0.083333    0.411171    0.260377   \n",
      "1     0.058309   0.413433  0.316667   0.083333    0.411171    0.260377   \n",
      "2     0.230321   0.449254  0.433333   0.383333    0.517843    0.343396   \n",
      "3     0.384840   0.529851  0.491667   0.541667    0.329325    0.181132   \n",
      "4     0.373178   0.529851  0.508333   0.541667    0.518231    0.283019   \n",
      "..         ...        ...       ...        ...         ...         ...   \n",
      "200   0.655977   0.711940  0.716667   0.641667    0.567882    0.301887   \n",
      "201   0.655977   0.711940  0.708333   0.641667    0.605508    0.301887   \n",
      "202   0.655977   0.711940  0.716667   0.641667    0.591156    0.422642   \n",
      "203   0.655977   0.711940  0.716667   0.641667    0.670675    0.316981   \n",
      "204   0.655977   0.711940  0.716667   0.641667    0.610551    0.301887   \n",
      "\n",
      "     boreratio    stroke  compressionratio  horsepower  ...  fuelsystem_spfi  \\\n",
      "0     0.664286  0.290476           0.12500    0.262500  ...              0.0   \n",
      "1     0.664286  0.290476           0.12500    0.262500  ...              0.0   \n",
      "2     0.100000  0.666667           0.12500    0.441667  ...              0.0   \n",
      "3     0.464286  0.633333           0.18750    0.225000  ...              0.0   \n",
      "4     0.464286  0.633333           0.06250    0.279167  ...              0.0   \n",
      "..         ...       ...               ...         ...  ...              ...   \n",
      "200   0.885714  0.514286           0.15625    0.275000  ...              0.0   \n",
      "201   0.885714  0.514286           0.10625    0.466667  ...              0.0   \n",
      "202   0.742857  0.380952           0.11250    0.358333  ...              0.0   \n",
      "203   0.335714  0.633333           1.00000    0.241667  ...              0.0   \n",
      "204   0.885714  0.514286           0.15625    0.275000  ...              0.0   \n",
      "\n",
      "     enginetype_dohc  enginetype_dohcv  enginetype_l  enginetype_ohc  \\\n",
      "0                1.0               0.0           0.0             0.0   \n",
      "1                1.0               0.0           0.0             0.0   \n",
      "2                0.0               0.0           0.0             0.0   \n",
      "3                0.0               0.0           0.0             1.0   \n",
      "4                0.0               0.0           0.0             1.0   \n",
      "..               ...               ...           ...             ...   \n",
      "200              0.0               0.0           0.0             1.0   \n",
      "201              0.0               0.0           0.0             1.0   \n",
      "202              0.0               0.0           0.0             0.0   \n",
      "203              0.0               0.0           0.0             1.0   \n",
      "204              0.0               0.0           0.0             1.0   \n",
      "\n",
      "     enginetype_ohcf  enginetype_ohcv  enginetype_rotor  fueltype_diesel  \\\n",
      "0                0.0              0.0               0.0              0.0   \n",
      "1                0.0              0.0               0.0              0.0   \n",
      "2                0.0              1.0               0.0              0.0   \n",
      "3                0.0              0.0               0.0              0.0   \n",
      "4                0.0              0.0               0.0              0.0   \n",
      "..               ...              ...               ...              ...   \n",
      "200              0.0              0.0               0.0              0.0   \n",
      "201              0.0              0.0               0.0              0.0   \n",
      "202              0.0              1.0               0.0              0.0   \n",
      "203              0.0              0.0               0.0              1.0   \n",
      "204              0.0              0.0               0.0              0.0   \n",
      "\n",
      "     fueltype_gas  \n",
      "0             1.0  \n",
      "1             1.0  \n",
      "2             1.0  \n",
      "3             1.0  \n",
      "4             1.0  \n",
      "..            ...  \n",
      "200           1.0  \n",
      "201           1.0  \n",
      "202           1.0  \n",
      "203           0.0  \n",
      "204           1.0  \n",
      "\n",
      "[205 rows x 44 columns]\n"
     ]
    }
   ],
   "source": [
    "print(carprice_data)\n"
   ]
  },
  {
   "cell_type": "code",
   "execution_count": 134,
   "id": "aa3e2a48",
   "metadata": {},
   "outputs": [
    {
     "name": "stdout",
     "output_type": "stream",
     "text": [
      "8 features: Index(['curbweight', 'horsepower', 'highwaympg', 'cylindernumber_five',\n",
      "       'cylindernumber_four', 'cylindernumber_six', 'enginetype_ohcv',\n",
      "       'enginetype_rotor'],\n",
      "      dtype='object')\n",
      "['wheelbase', 'carlength', 'carwidth', 'carheight', 'curbweight', 'enginesize', 'boreratio', 'stroke', 'compressionratio', 'horsepower', 'peakrpm', 'citympg', 'highwaympg', 'price', 'doornumber_four', 'doornumber_two', 'cylindernumber_five', 'cylindernumber_four', 'cylindernumber_six', 'carbody_convertible', 'carbody_hatchback', 'carbody_sedan', 'aspiration_std', 'aspiration_turbo', 'drivewheel_4wd', 'drivewheel_fwd', 'drivewheel_rwd', 'fuelsystem_1bbl', 'fuelsystem_2bbl', 'fuelsystem_4bbl', 'fuelsystem_idi', 'fuelsystem_mfi', 'fuelsystem_mpfi', 'fuelsystem_spdi', 'fuelsystem_spfi', 'enginetype_dohc', 'enginetype_dohcv', 'enginetype_l', 'enginetype_ohc', 'enginetype_ohcf', 'enginetype_ohcv', 'enginetype_rotor', 'fueltype_diesel', 'fueltype_gas']\n",
      "['curbweight', 'horsepower', 'highwaympg', 'price', 'cylindernumber_five', 'cylindernumber_four', 'cylindernumber_six', 'enginetype_ohcv', 'enginetype_rotor']\n",
      "linear regression rmse: 3375.309844473231\n"
     ]
    }
   ],
   "source": [
    "from sklearn.model_selection import train_test_split\n",
    "from sklearn.linear_model import LinearRegression, Lasso, Ridge, ElasticNet\n",
    "from sklearn.metrics import mean_squared_error\n",
    "from sklearn.feature_selection import RFE\n",
    "\n",
    "X_train, X_test, Y_train, Y_test = train_test_split(carprice_data.drop(\"price\", axis=1), carprice_data[\"price\"], test_size=0.2, random_state=0)\n",
    "\n",
    "lr = LinearRegression()\n",
    "rfe = RFE(lr, n_features_to_select=8)\n",
    "rfe.fit(X_train, Y_train)\n",
    "\n",
    "print(\"8 features:\", carprice_data.drop(\"price\", axis=1).columns[rfe.support_])\n",
    "print(carprice_data.columns.to_list())\n",
    "carprice_data.drop([\"wheelbase\",\"carlength\",\"carwidth\",\"carheight\",\"enginesize\",\"boreratio\",\"stroke\",\"compressionratio\",\"peakrpm\",\"citympg\",\n",
    "                     \"doornumber_four\", \"doornumber_two\",\"carbody_convertible\",\n",
    "                    \"carbody_hatchback\", \"carbody_sedan\", \"aspiration_std\", \"aspiration_turbo\", \"drivewheel_4wd\", \"drivewheel_fwd\", \"drivewheel_rwd\",\n",
    "                    \"fuelsystem_1bbl\", \"fuelsystem_2bbl\", \"fuelsystem_4bbl\", \"fuelsystem_idi\", \"fuelsystem_mfi\", \"fuelsystem_mpfi\",\n",
    "                    \"fuelsystem_spdi\", \"fuelsystem_spfi\", \"enginetype_dohc\", \"enginetype_dohcv\", \"enginetype_l\",\n",
    "                    \"enginetype_ohc\", \"enginetype_ohcf\", \"fueltype_diesel\", \"fueltype_gas\"], axis=1, inplace=True)\n",
    "lr.fit(X_train,Y_train)\n",
    "print(carprice_data.columns.to_list())\n",
    "\n",
    "lr_pred = lr.predict(X_test)\n",
    "lr_rmse = mean_squared_error(Y_test, lr_pred, squared=False)\n",
    "print(\"linear regression rmse:\", lr_rmse)"
   ]
  },
  {
   "cell_type": "code",
   "execution_count": 143,
   "id": "f6e9dfdc",
   "metadata": {},
   "outputs": [
    {
     "name": "stdout",
     "output_type": "stream",
     "text": [
      "lasso regression rmse: 3354.5684047338937\n"
     ]
    }
   ],
   "source": [
    "lasso = Lasso(alpha=5.0)\n",
    "\n",
    "\n",
    "lasso.fit(X_train,Y_train)\n",
    "\n",
    "lasso_pred = lasso.predict(X_test)\n",
    "lasso_rmse = mean_squared_error(Y_test, lasso_pred, squared=False)\n",
    "print(\"lasso regression rmse:\", lasso_rmse)"
   ]
  },
  {
   "cell_type": "code",
   "execution_count": 136,
   "id": "40186192",
   "metadata": {},
   "outputs": [
    {
     "name": "stdout",
     "output_type": "stream",
     "text": [
      "ridge regression rmse: 3782.1236865534283\n"
     ]
    }
   ],
   "source": [
    "ridge = Ridge()\n",
    "ridge.fit(X_train,Y_train)\n",
    "\n",
    "ridge_pred = ridge.predict(X_test)\n",
    "ridge_rmse = mean_squared_error(Y_test, ridge_pred, squared=False)\n",
    "print(\"ridge regression rmse:\", ridge_rmse)"
   ]
  },
  {
   "cell_type": "code",
   "execution_count": 137,
   "id": "1d159e1f",
   "metadata": {},
   "outputs": [
    {
     "name": "stdout",
     "output_type": "stream",
     "text": [
      "elasticnet regression rmse: 5978.48544975427\n"
     ]
    }
   ],
   "source": [
    "en = ElasticNet()\n",
    "en.fit(X_train,Y_train)\n",
    "\n",
    "en_pred = en.predict(X_test)\n",
    "en_rmse = mean_squared_error(Y_test, en_pred, squared=False)\n",
    "print(\"elasticnet regression rmse:\", en_rmse)"
   ]
  },
  {
   "cell_type": "code",
   "execution_count": null,
   "id": "754e0a3c",
   "metadata": {},
   "outputs": [],
   "source": []
  }
 ],
 "metadata": {
  "kernelspec": {
   "display_name": "Python 3",
   "language": "python",
   "name": "python3"
  },
  "language_info": {
   "codemirror_mode": {
    "name": "ipython",
    "version": 3
   },
   "file_extension": ".py",
   "mimetype": "text/x-python",
   "name": "python",
   "nbconvert_exporter": "python",
   "pygments_lexer": "ipython3",
   "version": "3.11.2"
  },
  "vscode": {
   "interpreter": {
    "hash": "b91f41160b83ffc59c7e17fa6fd02d637d5dcf1d5e59aa2db87d82178661b954"
   }
  }
 },
 "nbformat": 4,
 "nbformat_minor": 5
}
